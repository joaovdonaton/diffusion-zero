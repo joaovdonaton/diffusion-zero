{
 "cells": [
  {
   "cell_type": "code",
   "execution_count": 1,
   "id": "409bf98c-f4a7-40fd-b19f-a432c00232ae",
   "metadata": {},
   "outputs": [],
   "source": [
    "import torch\n",
    "from torchvision import datasets, transforms\n",
    "from torch.utils.data import DataLoader\n",
    "\n",
    "import diffusion\n",
    "import unet\n",
    "\n",
    "import numpy as np\n",
    "\n",
    "device = torch.device('cuda' if torch.cuda.is_available() else 'cpu')"
   ]
  },
  {
   "cell_type": "code",
   "execution_count": 2,
   "id": "14805b9c-6eb7-45f8-a472-8dc790d5db2d",
   "metadata": {},
   "outputs": [],
   "source": [
    "# some settings\n",
    "BATCH_SIZE = 64"
   ]
  },
  {
   "cell_type": "code",
   "execution_count": 3,
   "id": "5c7804d1-7959-40d7-9046-85cbbe452c3e",
   "metadata": {},
   "outputs": [
    {
     "name": "stdout",
     "output_type": "stream",
     "text": [
      "Files already downloaded and verified\n"
     ]
    }
   ],
   "source": [
    "# get mean and std from train set for this to normalize using (x-mean)/std\n",
    "train_set = datasets.CIFAR10(root='./data', train=True, download=True, transform=transforms.ToTensor())\n",
    "train_loader = DataLoader(train_set, batch_size=len(train_set), shuffle=True, num_workers=2)\n",
    "\n",
    "train_data = next(iter(train_loader))[0]\n",
    "means = [train_data[:, 0, :, :].mean(), train_data[:, 1, :, :].mean(), train_data[:, 2, :, :].mean()]\n",
    "stds = [train_data[:, 0, :, :].std(), train_data[:, 1, :, :].std(), train_data[:, 2, :, :].std()]"
   ]
  },
  {
   "cell_type": "code",
   "execution_count": 4,
   "id": "5e54494e-081c-497a-8b64-0218c25adf0d",
   "metadata": {},
   "outputs": [
    {
     "name": "stdout",
     "output_type": "stream",
     "text": [
      "Files already downloaded and verified\n",
      "Files already downloaded and verified\n"
     ]
    }
   ],
   "source": [
    "# actual dataset setup\n",
    "transform = transforms.Compose([\n",
    "    transforms.ToTensor(),\n",
    "    transforms.Normalize(means, stds)\n",
    "])\n",
    "\n",
    "train_set = datasets.CIFAR10(root='./data', train=True, download=True, transform=transform)\n",
    "train_loader = DataLoader(train_set, batch_size=BATCH_SIZE, shuffle=True, num_workers=2)\n",
    "\n",
    "test_set = datasets.CIFAR10(root='./data', train=False, download=True, transform=transform)\n",
    "test_loader = DataLoader(train_set, batch_size=BATCH_SIZE, shuffle=True, num_workers=2)"
   ]
  },
  {
   "cell_type": "code",
   "execution_count": 5,
   "id": "4146089b-9219-4d6a-99af-8e1300c7b9fa",
   "metadata": {},
   "outputs": [],
   "source": [
    "net = unet.UNet([2, 4, 8], 2, 32, 10).to(device)\n",
    "\n",
    "#print(sim.simulate(0, 100))\n",
    "\n",
    "train = diffusion.TrainDiffussionCFG(net, train_loader, 0.1)"
   ]
  },
  {
   "cell_type": "code",
   "execution_count": 6,
   "id": "f4910102-dc00-48e6-b085-1e9c3f3a42f1",
   "metadata": {},
   "outputs": [
    {
     "name": "stdout",
     "output_type": "stream",
     "text": [
      "torch.Size([64, 3, 32, 32])\n"
     ]
    },
    {
     "ename": "NameError",
     "evalue": "name 'l' is not defined",
     "output_type": "error",
     "traceback": [
      "\u001b[31m---------------------------------------------------------------------------\u001b[39m",
      "\u001b[31mNameError\u001b[39m                                 Traceback (most recent call last)",
      "\u001b[36mCell\u001b[39m\u001b[36m \u001b[39m\u001b[32mIn[6]\u001b[39m\u001b[32m, line 1\u001b[39m\n\u001b[32m----> \u001b[39m\u001b[32m1\u001b[39m \u001b[43mtrain\u001b[49m\u001b[43m.\u001b[49m\u001b[43mtrain\u001b[49m\u001b[43m(\u001b[49m\u001b[32;43m1\u001b[39;49m\u001b[43m)\u001b[49m\n",
      "\u001b[36mFile \u001b[39m\u001b[32m~/dev/diffusion-zero/diffusion.py:64\u001b[39m, in \u001b[36mTrainDiffussionCFG.train\u001b[39m\u001b[34m(self, epoch_count)\u001b[39m\n\u001b[32m     62\u001b[39m \u001b[38;5;28;01mfor\u001b[39;00m z, label \u001b[38;5;129;01min\u001b[39;00m \u001b[38;5;28mself\u001b[39m.loader:\n\u001b[32m     63\u001b[39m     \u001b[38;5;28mprint\u001b[39m(z.shape) \n\u001b[32m---> \u001b[39m\u001b[32m64\u001b[39m     \u001b[38;5;28mprint\u001b[39m(\u001b[43ml\u001b[49m.shape) \n\u001b[32m     65\u001b[39m     \u001b[38;5;28mprint\u001b[39m(l) \n\u001b[32m     66\u001b[39m     exit()\n",
      "\u001b[31mNameError\u001b[39m: name 'l' is not defined"
     ]
    }
   ],
   "source": [
    "train.train(1)"
   ]
  },
  {
   "cell_type": "code",
   "execution_count": 7,
   "id": "00f6e221-d63a-4497-8e46-4fe89179789d",
   "metadata": {},
   "outputs": [
    {
     "name": "stdout",
     "output_type": "stream",
     "text": [
      "[tensor(0.4914), tensor(0.4822), tensor(0.4465)]\n",
      "[tensor(0.2470), tensor(0.2435), tensor(0.2616)]\n"
     ]
    }
   ],
   "source": [
    "print(means)\n",
    "print(stds)"
   ]
  },
  {
   "cell_type": "code",
   "execution_count": null,
   "id": "f1c9e901-430f-4f88-9b98-13730889c538",
   "metadata": {},
   "outputs": [],
   "source": []
  }
 ],
 "metadata": {
  "kernelspec": {
   "display_name": "Python 3 (ipykernel)",
   "language": "python",
   "name": "python3"
  },
  "language_info": {
   "codemirror_mode": {
    "name": "ipython",
    "version": 3
   },
   "file_extension": ".py",
   "mimetype": "text/x-python",
   "name": "python",
   "nbconvert_exporter": "python",
   "pygments_lexer": "ipython3",
   "version": "3.12.9"
  }
 },
 "nbformat": 4,
 "nbformat_minor": 5
}
