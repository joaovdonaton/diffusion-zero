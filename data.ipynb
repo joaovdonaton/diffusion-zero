{
 "cells": [
  {
   "cell_type": "code",
   "execution_count": 76,
   "id": "409bf98c-f4a7-40fd-b19f-a432c00232ae",
   "metadata": {},
   "outputs": [],
   "source": [
    "import torch\n",
    "from torchvision import datasets, transforms\n",
    "from torch.utils.data import DataLoader\n",
    "\n",
    "import numpy as np"
   ]
  },
  {
   "cell_type": "code",
   "execution_count": 77,
   "id": "14805b9c-6eb7-45f8-a472-8dc790d5db2d",
   "metadata": {},
   "outputs": [],
   "source": [
    "# some settings\n",
    "BATCH_SIZE = 64"
   ]
  },
  {
   "cell_type": "code",
   "execution_count": 78,
   "id": "5c7804d1-7959-40d7-9046-85cbbe452c3e",
   "metadata": {},
   "outputs": [
    {
     "name": "stdout",
     "output_type": "stream",
     "text": [
      "Files already downloaded and verified\n"
     ]
    }
   ],
   "source": [
    "# get mean and std from train set for this to normalize using (x-mean)/std\n",
    "train_set = datasets.CIFAR10(root='./data', train=True, download=True, transform=transforms.ToTensor())\n",
    "train_loader = DataLoader(train_set, batch_size=len(train_set), shuffle=True, num_workers=2)\n",
    "\n",
    "train_data = next(iter(train_loader))[0]\n",
    "means = [train_data[:, 0, :, :].mean(), train_data[:, 1, :, :].mean(), train_data[:, 2, :, :].mean()]\n",
    "stds = [train_data[:, 0, :, :].std(), train_data[:, 1, :, :].std(), train_data[:, 2, :, :].std()]"
   ]
  },
  {
   "cell_type": "code",
   "execution_count": 79,
   "id": "5e54494e-081c-497a-8b64-0218c25adf0d",
   "metadata": {},
   "outputs": [
    {
     "name": "stdout",
     "output_type": "stream",
     "text": [
      "Files already downloaded and verified\n",
      "Files already downloaded and verified\n"
     ]
    }
   ],
   "source": [
    "# actual dataset setup\n",
    "transform = transforms.Compose([\n",
    "    transforms.ToTensor(),\n",
    "    transforms.Normalize(means, stds)\n",
    "])\n",
    "\n",
    "train_set = datasets.CIFAR10(root='./data', train=True, download=True, transform=transform)\n",
    "train_loader = DataLoader(train_set, batch_size=BATCH_SIZE, shuffle=True, num_workers=2)\n",
    "\n",
    "train_set = datasets.CIFAR10(root='./data', train=True, download=True, transform=transform)\n",
    "train_loader = DataLoader(train_set, batch_size=BATCH_SIZE, shuffle=True, num_workers=2)"
   ]
  },
  {
   "cell_type": "code",
   "execution_count": null,
   "id": "4146089b-9219-4d6a-99af-8e1300c7b9fa",
   "metadata": {},
   "outputs": [],
   "source": []
  }
 ],
 "metadata": {
  "kernelspec": {
   "display_name": "Python 3 (ipykernel)",
   "language": "python",
   "name": "python3"
  },
  "language_info": {
   "codemirror_mode": {
    "name": "ipython",
    "version": 3
   },
   "file_extension": ".py",
   "mimetype": "text/x-python",
   "name": "python",
   "nbconvert_exporter": "python",
   "pygments_lexer": "ipython3",
   "version": "3.12.9"
  }
 },
 "nbformat": 4,
 "nbformat_minor": 5
}
